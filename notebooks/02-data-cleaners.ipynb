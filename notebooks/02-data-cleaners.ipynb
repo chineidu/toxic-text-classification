{
 "cells": [
  {
   "cell_type": "markdown",
   "metadata": {},
   "source": [
    "# Data Cleaning: Exploratory Analysis"
   ]
  },
  {
   "cell_type": "code",
   "execution_count": 1,
   "metadata": {},
   "outputs": [
    {
     "name": "stdout",
     "output_type": "stream",
     "text": [
      "Python implementation: CPython\n",
      "Python version       : 3.10.8\n",
      "IPython version      : 8.23.0\n",
      "\n",
      "numpy    : 1.26.4\n",
      "pandas   : 2.2.2\n",
      "polars   : 0.20.21\n",
      "torch    : 2.2.2\n",
      "lightning: 2.2.2\n",
      "\n",
      "conda environment: n/a\n",
      "\n",
      "Python implementation: CPython\n",
      "Python version       : 3.10.8\n",
      "IPython version      : 8.23.0\n",
      "\n",
      "polars      : 0.20.21\n",
      "scikit-learn: 1.4.2\n",
      "torch       : 2.2.2\n",
      "lightning   : 2.2.2\n",
      "\n"
     ]
    }
   ],
   "source": [
    "%load_ext watermark\n",
    "%watermark -v -p numpy,pandas,polars,torch,lightning --conda\n",
    "\n",
    "# OR\n",
    "from watermark import watermark\n",
    "\n",
    "\n",
    "print(watermark(packages=\"polars,scikit-learn,torch,lightning\", python=True))"
   ]
  },
  {
   "cell_type": "code",
   "execution_count": 2,
   "metadata": {},
   "outputs": [],
   "source": [
    "# Built-in library\n",
    "from pathlib import Path\n",
    "import re\n",
    "import json\n",
    "from typing import Any, Optional, Union\n",
    "import logging\n",
    "import warnings\n",
    "\n",
    "# Standard imports\n",
    "import numpy as np\n",
    "import numpy.typing as npt\n",
    "from pprint import pprint\n",
    "import pandas as pd\n",
    "import polars as pl\n",
    "from rich.console import Console\n",
    "from rich.theme import Theme\n",
    "\n",
    "custom_theme = Theme(\n",
    "    {\n",
    "        \"info\": \"#76FF7B\",\n",
    "        \"warning\": \"#FBDDFE\",\n",
    "        \"error\": \"#FF0000\",\n",
    "    }\n",
    ")\n",
    "console = Console(theme=custom_theme)\n",
    "\n",
    "# Visualization\n",
    "import matplotlib.pyplot as plt\n",
    "\n",
    "\n",
    "# Pandas settings\n",
    "pd.options.display.max_rows = 1_000\n",
    "pd.options.display.max_columns = 1_000\n",
    "pd.options.display.max_colwidth = 600\n",
    "\n",
    "warnings.filterwarnings(\"ignore\")\n",
    "\n",
    "\n",
    "# Black code formatter (Optional)\n",
    "%load_ext lab_black\n",
    "\n",
    "# auto reload imports\n",
    "%load_ext autoreload\n",
    "%autoreload 2"
   ]
  },
  {
   "cell_type": "code",
   "execution_count": 3,
   "metadata": {},
   "outputs": [
    {
     "data": {
      "text/plain": [
       "(shape: (38_153, 2)\n",
       " ┌───────────────────────────────────┬─────────────┐\n",
       " │ text                              ┆ dataset     │\n",
       " │ ---                               ┆ ---         │\n",
       " │ str                               ┆ str         │\n",
       " ╞═══════════════════════════════════╪═════════════╡\n",
       " │ RT @DemonG0d9000: Quotes part 2 … ┆ cyber_bully │\n",
       " │ I feel like if I were on #MKR an… ┆ cyber_bully │\n",
       " │ RT @Davinci_beau: Shits annoying… ┆ cyber_bully │\n",
       " │ Cooking in a library or Disneyla… ┆ cyber_bully │\n",
       " │ 0ff my complexion off my quadrup… ┆ cyber_bully │\n",
       " │ …                                 ┆ …           │\n",
       " │ @Spacekatgal I'd say this is acc… ┆ cyber_bully │\n",
       " │ Glad I’m not the only one who pi… ┆ cyber_bully │\n",
       " │ Foolish Yoruba Muslim Arakunrin.… ┆ cyber_bully │\n",
       " │ You know Kat and Andre are awful… ┆ cyber_bully │\n",
       " │ Donald Trump says it's illegal t… ┆ cyber_bully │\n",
       " └───────────────────────────────────┴─────────────┘,\n",
       " shape: (9_539, 2)\n",
       " ┌───────────────────────────────────┬─────────────┐\n",
       " │ text                              ┆ dataset     │\n",
       " │ ---                               ┆ ---         │\n",
       " │ str                               ┆ str         │\n",
       " ╞═══════════════════════════════════╪═════════════╡\n",
       " │ @deathofrats01 LOOKING AT YOUR I… ┆ cyber_bully │\n",
       " │ @MyNameIsJonnii don't hate, you … ┆ cyber_bully │\n",
       " │ #MKR Lloyd likes some thick juic… ┆ cyber_bully │\n",
       " │ Don't fall in love with the memo… ┆ cyber_bully │\n",
       " │ @abuag2014 @Po_st http://t.co/fb… ┆ cyber_bully │\n",
       " │ …                                 ┆ …           │\n",
       " │ @Qoloob4 @Vandaliser @sajid_fair… ┆ cyber_bully │\n",
       " │ RT @A_Truth94 Call me sexist I d… ┆ cyber_bully │\n",
       " │ Just wondering, is there any oth… ┆ cyber_bully │\n",
       " │ Given that my friend is quite fi… ┆ cyber_bully │\n",
       " │ Cat you're an ugly and mean bitc… ┆ cyber_bully │\n",
       " └───────────────────────────────────┴─────────────┘,\n",
       " shape: (38_153, 1)\n",
       " ┌─────────────────────────────────┐\n",
       " │ hateful_or_vulgar_or_cyberbully │\n",
       " │ ---                             │\n",
       " │ bool                            │\n",
       " ╞═════════════════════════════════╡\n",
       " │ true                            │\n",
       " │ false                           │\n",
       " │ true                            │\n",
       " │ false                           │\n",
       " │ true                            │\n",
       " │ …                               │\n",
       " │ true                            │\n",
       " │ true                            │\n",
       " │ true                            │\n",
       " │ true                            │\n",
       " │ true                            │\n",
       " └─────────────────────────────────┘,\n",
       " shape: (9_539, 1)\n",
       " ┌─────────────────────────────────┐\n",
       " │ hateful_or_vulgar_or_cyberbully │\n",
       " │ ---                             │\n",
       " │ bool                            │\n",
       " ╞═════════════════════════════════╡\n",
       " │ true                            │\n",
       " │ true                            │\n",
       " │ true                            │\n",
       " │ false                           │\n",
       " │ false                           │\n",
       " │ …                               │\n",
       " │ true                            │\n",
       " │ true                            │\n",
       " │ true                            │\n",
       " │ true                            │\n",
       " │ true                            │\n",
       " └─────────────────────────────────┘)"
      ]
     },
     "execution_count": 3,
     "metadata": {},
     "output_type": "execute_result"
    }
   ],
   "source": [
    "from toxic_classifier.utilities.dataloaders import (\n",
    "    CyberBullyDataLoader,\n",
    "    GHCDataLoader,\n",
    "    ToxicCommentsDataLoader,\n",
    ")\n",
    "\n",
    "# Train data\n",
    "path: str = \"../data/toxic_comment_data/train.csv\"\n",
    "labels_path: str = \"../data/toxic_comment_data/test_labels.csv\"\n",
    "other_path: str = \"../data/toxic_comment_data/test.csv\"\n",
    "\n",
    "path: str = \"../data/cyberbully_data/cyberbullying_tweets.csv\"\n",
    "\n",
    "ghc_dataloader: CyberBullyDataLoader = CyberBullyDataLoader(\n",
    "    path=path,\n",
    "    # labels_path=labels_path,\n",
    "    # other_path=other_path,\n",
    "    separator=\",\",\n",
    "    stratify=True,\n",
    ")\n",
    "\n",
    "ghc_dataloader.prepare_data()"
   ]
  },
  {
   "cell_type": "code",
   "execution_count": null,
   "metadata": {},
   "outputs": [],
   "source": []
  },
  {
   "cell_type": "code",
   "execution_count": null,
   "metadata": {},
   "outputs": [],
   "source": []
  },
  {
   "cell_type": "code",
   "execution_count": null,
   "metadata": {},
   "outputs": [],
   "source": []
  },
  {
   "cell_type": "code",
   "execution_count": null,
   "metadata": {},
   "outputs": [],
   "source": []
  },
  {
   "cell_type": "code",
   "execution_count": null,
   "metadata": {},
   "outputs": [],
   "source": []
  },
  {
   "cell_type": "code",
   "execution_count": null,
   "metadata": {},
   "outputs": [],
   "source": []
  },
  {
   "cell_type": "code",
   "execution_count": null,
   "metadata": {},
   "outputs": [],
   "source": []
  },
  {
   "cell_type": "code",
   "execution_count": null,
   "metadata": {},
   "outputs": [],
   "source": []
  },
  {
   "cell_type": "code",
   "execution_count": null,
   "metadata": {},
   "outputs": [],
   "source": []
  },
  {
   "cell_type": "code",
   "execution_count": null,
   "metadata": {},
   "outputs": [],
   "source": []
  },
  {
   "cell_type": "code",
   "execution_count": null,
   "metadata": {},
   "outputs": [],
   "source": []
  },
  {
   "cell_type": "code",
   "execution_count": null,
   "metadata": {},
   "outputs": [],
   "source": []
  }
 ],
 "metadata": {
  "kernelspec": {
   "display_name": ".venv",
   "language": "python",
   "name": "python3"
  },
  "language_info": {
   "codemirror_mode": {
    "name": "ipython",
    "version": 3
   },
   "file_extension": ".py",
   "mimetype": "text/x-python",
   "name": "python",
   "nbconvert_exporter": "python",
   "pygments_lexer": "ipython3",
   "version": "3.10.8"
  }
 },
 "nbformat": 4,
 "nbformat_minor": 2
}
